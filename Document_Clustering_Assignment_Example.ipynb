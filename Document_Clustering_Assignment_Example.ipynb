{
 "cells": [
  {
   "cell_type": "code",
   "execution_count": 1,
   "id": "ce368ef1",
   "metadata": {},
   "outputs": [],
   "source": [
    "import nltk\n",
    "from sklearn.feature_extraction.text import TfidfVectorizer\n",
    "from sklearn.cluster import KMeans\n",
    "from nltk.corpus import stopwords\n",
    "from nltk.stem import WordNetLemmatizer\n",
    "import tkinter as tk\n",
    "from tkinter import scrolledtext, messagebox\n",
    "import pandas as pd\n",
    "import os"
   ]
  },
  {
   "cell_type": "code",
   "execution_count": 2,
   "id": "9f1e4f01",
   "metadata": {},
   "outputs": [],
   "source": [
    "def preprocess_text(text):\n",
    "    stop_words = set(stopwords.words('english'))\n",
    "    lemmatizer = WordNetLemmatizer()\n",
    "    words = nltk.word_tokenize(text)\n",
    "    words = [lemmatizer.lemmatize(word.lower()) for word in words if word.isalnum() and word.lower() not in stop_words]\n",
    "    return ' '.join(words)\n"
   ]
  },
  {
   "cell_type": "code",
   "execution_count": 3,
   "id": "a91af0de",
   "metadata": {},
   "outputs": [],
   "source": [
    "def cluster_documents(documents, max_clusters=3):\n",
    "    \n",
    "    processed_docs = [preprocess_text(doc) for doc in documents]\n",
    "\n",
    "    \n",
    "    vectorizer = TfidfVectorizer(ngram_range=(1, 2))\n",
    "    X = vectorizer.fit_transform(processed_docs)\n",
    "\n",
    "    \n",
    "    n_clusters = min(len(documents), max_clusters)\n",
    "\n",
    "    \n",
    "    kmeans = KMeans(n_clusters=n_clusters, random_state=42)\n",
    "    kmeans.fit(X)\n",
    "\n",
    "    \n",
    "    clusters = kmeans.labels_\n",
    "    return clusters"
   ]
  },
  {
   "cell_type": "code",
   "execution_count": 4,
   "id": "a35fdbd8",
   "metadata": {},
   "outputs": [],
   "source": [
    "def get_cluster_name(cluster_num):\n",
    "    cluster_names = {0 : \"Sports\", 1: \"Business\", 2:\"Health\"}\n",
    "    return cluster_names.get(cluster_num, \"Unknown\")"
   ]
  },
  {
   "cell_type": "code",
   "execution_count": 5,
   "id": "6b8f3cf5",
   "metadata": {},
   "outputs": [],
   "source": [
    "def save_to_csv(documents, clusters, filename='clustered_documents.csv'):\n",
    "    data = {\n",
    "        'Document': documents,\n",
    "        'Cluster': clusters,\n",
    "        'Cluster Name': [get_cluster_name(cluster) for cluster in clusters]\n",
    "    }\n",
    "    df = pd.DataFrame(data)\n",
    "    \n",
    "    if os.path.exists(filename):\n",
    "        df.to_csv(filename, mode='a', header=False, index=False)\n",
    "    else:\n",
    "        df.to_csv(filename, mode='w', header=True, index=False)"
   ]
  },
  {
   "cell_type": "code",
   "execution_count": 10,
   "id": "103cc25c",
   "metadata": {},
   "outputs": [],
   "source": [
    "class DocumentClusteringApp:\n",
    "    def __init__(self, root):\n",
    "        self.root = root\n",
    "        self.root.title(\"Document Clustering\")\n",
    "\n",
    "        self.label = tk.Label(root, text=\"Enter news articles (separate articles with double newlines):\")\n",
    "        self.label.pack()\n",
    "\n",
    "        self.text_area = scrolledtext.ScrolledText(root, width=50, height=20)\n",
    "        self.text_area.pack()\n",
    "\n",
    "        self.cluster_button = tk.Button(root, text=\"Cluster Documents\", command=self.cluster_documents)\n",
    "        self.cluster_button.pack()\n",
    "\n",
    "        self.result_label = tk.Label(root, text=\"\")\n",
    "        self.result_label.pack()\n",
    "\n",
    "    def cluster_documents(self):\n",
    "        content = self.text_area.get(\"1.0\", tk.END).strip()\n",
    "        documents = [doc.strip() for doc in content.split('\\n\\n') if doc.strip()]\n",
    "        if not documents:\n",
    "            messagebox.showwarning(\"Input Error\", \"Please enter some news articles to cluster.\")\n",
    "            return\n",
    "\n",
    "        clusters = cluster_documents(documents)\n",
    "        save_to_csv(documents, clusters)\n",
    "        result_text = \"\"\n",
    "        for doc, cluster in zip(documents, clusters):\n",
    "            cluster_name = get_cluster_name(cluster)\n",
    "            result_text += f\"Cluster {cluster} ({cluster_name}):\\n{doc}\\n\\n\"\n",
    "\n",
    "        self.result_label.config(text=result_text)\n",
    "\n",
    "if __name__ == \"__main__\":\n",
    "    root = tk.Tk()\n",
    "    app = DocumentClusteringApp(root)\n",
    "    root.mainloop()"
   ]
  },
  {
   "cell_type": "code",
   "execution_count": null,
   "id": "b305695c",
   "metadata": {},
   "outputs": [],
   "source": []
  }
 ],
 "metadata": {
  "kernelspec": {
   "display_name": "Python 3 (ipykernel)",
   "language": "python",
   "name": "python3"
  },
  "language_info": {
   "codemirror_mode": {
    "name": "ipython",
    "version": 3
   },
   "file_extension": ".py",
   "mimetype": "text/x-python",
   "name": "python",
   "nbconvert_exporter": "python",
   "pygments_lexer": "ipython3",
   "version": "3.11.9"
  }
 },
 "nbformat": 4,
 "nbformat_minor": 5
}
